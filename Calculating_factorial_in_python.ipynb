{
  "cells": [
    {
      "cell_type": "markdown",
      "metadata": {
        "id": "view-in-github",
        "colab_type": "text"
      },
      "source": [
        "<a href=\"https://colab.research.google.com/github/donna99f/Python-tasks/blob/main/Calculating_factorial_in_python.ipynb\" target=\"_parent\"><img src=\"https://colab.research.google.com/assets/colab-badge.svg\" alt=\"Open In Colab\"/></a>"
      ]
    },
    {
      "cell_type": "markdown",
      "source": [
        "**Calculating Factorial Recursively**"
      ],
      "metadata": {
        "id": "ohfh48C8wfGM"
      }
    },
    {
      "cell_type": "code",
      "source": [
        "def find_fact(n):\n",
        "  if n==1:\n",
        "    return 1\n",
        "  else:\n",
        "    return n*find_fact(n-1)\n",
        "\n",
        "print(find_fact(4))\n",
        "print(find_fact(5))"
      ],
      "metadata": {
        "colab": {
          "base_uri": "https://localhost:8080/"
        },
        "id": "PKxK9YwLwpeH",
        "outputId": "3e751b67-9c4d-47b7-8992-b492c542c0c1"
      },
      "execution_count": null,
      "outputs": [
        {
          "output_type": "stream",
          "name": "stdout",
          "text": [
            "24\n",
            "120\n"
          ]
        }
      ]
    },
    {
      "cell_type": "markdown",
      "source": [
        "**Factorial calculation using looping**"
      ],
      "metadata": {
        "id": "l5tXfprixtJF"
      }
    },
    {
      "cell_type": "code",
      "source": [
        "def find_factorial(m):\n",
        "  if m<0:\n",
        "    return 0\n",
        "  else:\n",
        "    factorial=1\n",
        "    for i in range (1,m+1):\n",
        "      factorial=factorial*i\n",
        "  return factorial\n",
        "\n",
        "print (find_factorial(5))"
      ],
      "metadata": {
        "colab": {
          "base_uri": "https://localhost:8080/"
        },
        "id": "65AKjF3lx4GO",
        "outputId": "01b934c3-7889-4f2f-c4b1-4f8a61a7aa82"
      },
      "execution_count": null,
      "outputs": [
        {
          "output_type": "stream",
          "name": "stdout",
          "text": [
            "120\n"
          ]
        }
      ]
    }
  ],
  "metadata": {
    "colab": {
      "provenance": [],
      "authorship_tag": "ABX9TyM7uOT7HXPhnxMv5QQ21f/D",
      "include_colab_link": true
    },
    "kernelspec": {
      "display_name": "Python 3",
      "name": "python3"
    },
    "language_info": {
      "name": "python"
    }
  },
  "nbformat": 4,
  "nbformat_minor": 0
}