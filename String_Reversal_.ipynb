{
  "nbformat": 4,
  "nbformat_minor": 0,
  "metadata": {
    "colab": {
      "provenance": [],
      "authorship_tag": "ABX9TyNzDqK0eHQEhBEtryTrjVXw",
      "include_colab_link": true
    },
    "kernelspec": {
      "name": "python3",
      "display_name": "Python 3"
    },
    "language_info": {
      "name": "python"
    }
  },
  "cells": [
    {
      "cell_type": "markdown",
      "metadata": {
        "id": "view-in-github",
        "colab_type": "text"
      },
      "source": [
        "<a href=\"https://colab.research.google.com/github/donna99f/Python-tasks/blob/main/String_Reversal_.ipynb\" target=\"_parent\"><img src=\"https://colab.research.google.com/assets/colab-badge.svg\" alt=\"Open In Colab\"/></a>"
      ]
    },
    {
      "cell_type": "code",
      "source": [
        "example=\"example\"\n",
        "def reverse(str):\n",
        "  return str[::-1]\n",
        "print (reverse(example))"
      ],
      "metadata": {
        "colab": {
          "base_uri": "https://localhost:8080/"
        },
        "id": "yJRwKSTmP-Br",
        "outputId": "84ccb8d9-1491-4268-bb88-99f0facc31b7"
      },
      "execution_count": null,
      "outputs": [
        {
          "output_type": "stream",
          "name": "stdout",
          "text": [
            "elpmaxe\n"
          ]
        }
      ]
    },
    {
      "cell_type": "code",
      "execution_count": null,
      "metadata": {
        "colab": {
          "base_uri": "https://localhost:8080/"
        },
        "id": "fFsWSn7ZPwrE",
        "outputId": "b401e503-90bf-4588-bc86-4d9d8c331874"
      },
      "outputs": [
        {
          "output_type": "stream",
          "name": "stdout",
          "text": [
            "oniccuppaC\n",
            "ettaL\n",
            "onaciremA\n",
            "osserpsE\n"
          ]
        }
      ],
      "source": [
        "coffees=['Cappuccino','Latte','Americano','Espresso']\n",
        "def reverse(str):\n",
        "  return str[::-1]\n",
        "\n",
        "reversed_coffees= map(reverse,coffees)\n",
        "for x in reversed_coffees:\n",
        "  print(x)"
      ]
    }
  ]
}